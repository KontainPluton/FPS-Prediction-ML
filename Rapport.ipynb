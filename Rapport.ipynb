{
 "cells": [
  {
   "cell_type": "markdown",
   "metadata": {},
   "source": [
    "##### Imports\n",
    "Veuillez lancer la cellule suivante pour importer les librairies utilisées dans ce rapport"
   ]
  },
  {
   "cell_type": "code",
   "execution_count": 21,
   "metadata": {},
   "outputs": [],
   "source": [
    "import numpy as np\n",
    "import matplotlib.pyplot as plt\n",
    "import pandas as pd\n",
    "import sklearn\n",
    "from IPython.display import display\n",
    "\n",
    "from sklearn.datasets import fetch_openml\n",
    "from sklearn.model_selection import train_test_split\n",
    "from sklearn.linear_model import LinearRegression"
   ]
  },
  {
   "cell_type": "code",
   "execution_count": 23,
   "metadata": {},
   "outputs": [],
   "source": [
    "### Import du dataset depuis OpenML (lien du dataset : https://www.openml.org/d/42737)\n",
    "\n",
    "dataset = sklearn.datasets.fetch_openml(name=\"fps-in-video-games\")"
   ]
  },
  {
   "cell_type": "markdown",
   "metadata": {},
   "source": [
    "##### Tri du dataset\n",
    "\n",
    "Pour trier notre dataset, nous avons au à notre disposition deux méthodologies :\n",
    "- Supprimer toutes les colonnes du dataset contenant des valeurs nulles (NaN), puis choisir dans les colonnes restantes, celles qui sont pertinentes.\n",
    "- Supprimer la colonne `GpuNumberOfExecutionUnits` (car c'est une colonne contenant que des valeurs nulles), puis supprimer toutes les lignes contenant des valeurs nulles (NaN). Et comme pour la 1ere méthode, il faudra trier les colonnes pertinentes dans les colonnes restantes."
   ]
  },
  {
   "cell_type": "markdown",
   "metadata": {},
   "source": [
    "#### Suppression des colonnes contennants des valeurs nulles (NaN)\n",
    "\n",
    "Dans notre dataset, certaines colonnes contiennent des valeurs non renseignées, nous avons donc décider de les supprimer.\n",
    "Voici la liste :\n",
    "- CpuCacheL3\n",
    "- CpuDieSize\n",
    "- CpuNumberOfTransistors\n",
    "- GpuBandwidth\n",
    "- GpuNumberOfComputeUnits\n",
    "- GpuDieSize\n",
    "- GpuNumberOfExecutionUnits\n",
    "- GpuFP32Performance\n",
    "- GpuMemoryBus\n",
    "- GpuMemorySize\n",
    "- GpuMemoryType\n",
    "- GpuOpenCL\n",
    "- GpuShaderModel\n",
    "- GpuNumberOfShadingUnits\n",
    "- GpuNumberOfTransistors\n",
    "- GpuVulkan"
   ]
  },
  {
   "cell_type": "code",
   "execution_count": null,
   "metadata": {},
   "outputs": [],
   "source": [
    "dataset_df = pd.DataFrame(data=np.c_[dataset.data,dataset.target], columns=dataset.feature_names+['target'])\n",
    "\n",
    "dataset_df_reduced = dataset_df.dropna(axis='columns')\n",
    "\n",
    "dataset_df_reduced_rows = dataset_df.drop(columns=['GpuNumberOfExecutionUnits','CpuCacheL3']).dropna()\n",
    "\n",
    "#print(\"X_train shape: {}\".format(bc_df['GpuMemoryBus'][59]))\n",
    "\n",
    "#print(bc_df.columns)\n",
    "#print(bc_df_reduced.columns)\n",
    "\n",
    "dataset_df_reduced_rows_pivot = dataset_df_reduced_rows.pivot_table(columns=['GameName'], aggfunc='size')\n",
    "\n",
    "print(dataset_df_reduced_rows.transpose())"
   ]
  }
 ],
 "metadata": {
  "kernelspec": {
   "display_name": "Python 3",
   "language": "python",
   "name": "python3"
  },
  "language_info": {
   "codemirror_mode": {
    "name": "ipython",
    "version": 3
   },
   "file_extension": ".py",
   "mimetype": "text/x-python",
   "name": "python",
   "nbconvert_exporter": "python",
   "pygments_lexer": "ipython3",
   "version": "3.10.1"
  }
 },
 "nbformat": 4,
 "nbformat_minor": 2
}
