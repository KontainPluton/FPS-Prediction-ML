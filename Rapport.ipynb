{
 "cells": [
  {
   "cell_type": "markdown",
   "metadata": {},
   "source": [
    "##### Imports\n",
    "Veuillez lancer la cellule suivante pour importer les librairies utilisées dans ce rapport"
   ]
  },
  {
   "cell_type": "code",
   "execution_count": null,
   "metadata": {},
   "outputs": [],
   "source": [
    "import numpy as np\n",
    "import matplotlib.pyplot as plt\n",
    "import pandas as pd\n",
    "import sklearn\n",
    "from IPython.display import display\n",
    "\n",
    "from sklearn.datasets import fetch_openml\n",
    "\n",
    "from sklearn.model_selection import train_test_split"
   ]
  },
  {
   "cell_type": "code",
   "execution_count": null,
   "metadata": {},
   "outputs": [],
   "source": [
    "df = sklearn.datasets.fetch_openml(name=\"fps-in-video-games\")"
   ]
  },
  {
   "cell_type": "markdown",
   "metadata": {},
   "source": [
    "#### Suppression des colonnes contennants des valeurs nulles (NaN)\n",
    "\n",
    "Dans notre dataset, certaines colonnes contiennent des valeurs non renseignées, nous avons donc décider de les supprimer.\n",
    "Voici la liste :\n",
    "- CpuCacheL3\n",
    "- CpuDieSize\n",
    "- CpuNumberOfTransistors\n",
    "- GpuBandwidth\n",
    "- GpuNumberOfComputeUnits\n",
    "- GpuDieSize\n",
    "- GpuNumberOfExecutionUnits\n",
    "- GpuFP32Performance\n",
    "- GpuMemoryBus\n",
    "- GpuMemorySize\n",
    "- GpuMemoryType\n",
    "- GpuOpenCL\n",
    "- GpuShaderModel\n",
    "- GpuNumberOfShadingUnits\n",
    "- GpuNumberOfTransistors\n",
    "- GpuVulkan"
   ]
  },
  {
   "cell_type": "code",
   "execution_count": 69,
   "metadata": {},
   "outputs": [
    {
     "name": "stdout",
     "output_type": "stream",
     "text": [
      "GameName\n",
      "counterStrikeGlobalOffensive    8287\n",
      "grandTheftAuto5                 4164\n",
      "worldOfTanks                    1395\n",
      "rust                             543\n",
      "leagueOfLegends                 4126\n",
      "arkSurvivalEvolved               577\n",
      "apexLegends                     1661\n",
      "minecraft                       1424\n",
      "playerUnknownsBattlegrounds     4671\n",
      "battlefield1                    2278\n",
      "fortnite                        7553\n",
      "rocketLeague                     497\n",
      "callOfDutyBlackOps4              498\n",
      "dota2                           1168\n",
      "overwatch                       4234\n",
      "battlefield4                    1129\n",
      "callOfDutyWW2                    108\n",
      "pathOfExile                      108\n",
      "destiny2                         108\n",
      "radicalHeights                   108\n",
      "seaOfThieves                     108\n",
      "frostpunk                        108\n",
      "totalWar3Kingdoms                108\n",
      "warframe                         108\n",
      "airMechStrike                    108\n",
      "battletech                       108\n",
      "farCry5                          108\n",
      "starcraft2                       108\n",
      "rainbowSixSiege                  108\n",
      "aWayOut                          108\n",
      "dtype: int64\n"
     ]
    }
   ],
   "source": [
    "bc_df = pd.DataFrame(df.data, columns=df.feature_names)\n",
    "\n",
    "bc_df_reduced = bc_df.dropna(axis='columns')\n",
    "\n",
    "bc_df_reduced_rows = bc_df.drop(columns=['GpuNumberOfExecutionUnits']).dropna()\n",
    "\n",
    "#print(\"X_train shape: {}\".format(bc_df['GpuMemoryBus'][59]))\n",
    "\n",
    "#print(bc_df.columns)\n",
    "#print(bc_df_reduced.columns)\n",
    "\n",
    "dups_color = bc_df_reduced_rows.pivot_table(columns=['GameName'], aggfunc='size')\n",
    "print (dups_color)"
   ]
  },
  {
   "cell_type": "code",
   "execution_count": null,
   "metadata": {},
   "outputs": [],
   "source": []
  }
 ],
 "metadata": {
  "kernelspec": {
   "display_name": "Python 3",
   "language": "python",
   "name": "python3"
  },
  "language_info": {
   "codemirror_mode": {
    "name": "ipython",
    "version": 3
   },
   "file_extension": ".py",
   "mimetype": "text/x-python",
   "name": "python",
   "nbconvert_exporter": "python",
   "pygments_lexer": "ipython3",
   "version": "3.10.1"
  }
 },
 "nbformat": 4,
 "nbformat_minor": 2
}
