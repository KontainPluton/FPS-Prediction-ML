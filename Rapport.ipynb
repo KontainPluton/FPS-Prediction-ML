{
 "cells": [
  {
   "cell_type": "markdown",
   "metadata": {},
   "source": [
    "##### Imports\n",
    "Veuillez lancer la cellule suivante pour importer les librairies utilisées dans ce rapport"
   ]
  },
  {
   "cell_type": "code",
   "execution_count": 40,
   "metadata": {},
   "outputs": [],
   "source": [
    "import numpy as np\n",
    "import matplotlib.pyplot as plt\n",
    "import pandas as pd\n",
    "import sklearn\n",
    "from IPython.display import display\n",
    "\n",
    "from sklearn.datasets import fetch_openml\n",
    "from sklearn.model_selection import train_test_split\n",
    "from sklearn.model_selection import cross_val_score\n",
    "from sklearn.linear_model import LinearRegression\n",
    "from sklearn.neural_network import MLPRegressor"
   ]
  },
  {
   "cell_type": "code",
   "execution_count": 41,
   "metadata": {},
   "outputs": [],
   "source": [
    "### Import du dataset depuis OpenML (lien du dataset : https://www.openml.org/d/42737)\n",
    "\n",
    "dataset = sklearn.datasets.fetch_openml(name=\"fps-in-video-games\")"
   ]
  },
  {
   "cell_type": "markdown",
   "metadata": {},
   "source": [
    "##### Structure du dataset :\n",
    "\n",
    "Le data s"
   ]
  },
  {
   "cell_type": "code",
   "execution_count": 45,
   "metadata": {},
   "outputs": [
    {
     "name": "stdout",
     "output_type": "stream",
     "text": [
      "1299988\n",
      "[['CpuName' 0]\n",
      " ['CpuNumberOfCores' 0]\n",
      " ['CpuNumberOfThreads' 0]\n",
      " ['CpuBaseClock' 0]\n",
      " ['CpuCacheL1' 0]\n",
      " ['CpuCacheL2' 0]\n",
      " ['CpuCacheL3' 5055]\n",
      " ['CpuDieSize' 202534]\n",
      " ['CpuFrequency' 0]\n",
      " ['CpuMultiplier' 0]\n",
      " ['CpuMultiplierUnlocked' 0]\n",
      " ['CpuProcessSize' 0]\n",
      " ['CpuTDP' 0]\n",
      " ['CpuNumberOfTransistors' 226039]\n",
      " ['CpuTurboClock' 0]\n",
      " ['GpuName' 0]\n",
      " ['GpuArchitecture' 0]\n",
      " ['GpuBandwidth' 15441]\n",
      " ['GpuBaseClock' 0]\n",
      " ['GpuBoostClock' 0]\n",
      " ['GpuBus nterface' 0]\n",
      " ['GpuNumberOfComputeUnits' 357107]\n",
      " ['GpuDieSize' 11196]\n",
      " ['GpuDirectX' 0]\n",
      " ['GpuNumberOfExecutionUnits' 412935]\n",
      " ['GpuFP32Performance' 56]\n",
      " ['GpuMemoryBus' 15441]\n",
      " ['GpuMemorySize' 15441]\n",
      " ['GpuMemoryType' 15441]\n",
      " ['GpuOpenCL' 177]\n",
      " ['GpuOpenGL' 0]\n",
      " ['GpuPixelRate' 0]\n",
      " ['GpuProcessSize' 0]\n",
      " ['GpuNumberOfROPs' 0]\n",
      " ['GpuShaderModel' 5]\n",
      " ['GpuNumberOfShadingUnits' 56]\n",
      " ['GpuNumberOfTMUs' 0]\n",
      " ['GpuTextureRate' 0]\n",
      " ['GpuNumberOfTransistors' 11539]\n",
      " ['GpuVulkan' 11525]\n",
      " ['GameName' 0]\n",
      " ['GameResolution' 0]\n",
      " ['GameSetting' 0]\n",
      " ['Dataset' 0]]\n"
     ]
    }
   ],
   "source": [
    "### Compte le nombre de NaN dans le dataset\n",
    "\n",
    "bc_df = pd.DataFrame(dataset.data, columns=dataset.feature_names)\n",
    "\n",
    "tab = []\n",
    "j = 0\n",
    "\n",
    "for feature in bc_df.columns:\n",
    "    tab.append(bc_df[feature].isna().sum())\n",
    "\n",
    "print(bc_df.isna().sum().sum())\n",
    "print(np.c_[bc_df.columns,tab])"
   ]
  },
  {
   "cell_type": "markdown",
   "metadata": {},
   "source": [
    "##### Tri du dataset\n",
    "\n",
    "Pour trier notre dataset, nous avons au à notre disposition deux méthodologies :\n",
    "- Supprimer toutes les colonnes du dataset contenant des valeurs nulles (NaN), puis choisir dans les colonnes restantes, celles qui sont pertinentes.\n",
    "- Supprimer la colonne `GpuNumberOfExecutionUnits` (car c'est une colonne contenant que des valeurs nulles), puis supprimer toutes les lignes contenant des valeurs nulles (NaN). Et comme pour la 1ere méthode, il faudra trier les colonnes pertinentes dans les colonnes restantes."
   ]
  },
  {
   "cell_type": "markdown",
   "metadata": {},
   "source": [
    "#### Suppression des colonnes contennants des valeurs nulles (NaN)\n",
    "\n",
    "Dans notre dataset, certaines colonnes contiennent des valeurs non renseignées, nous avons donc décider de les supprimer.\n",
    "Voici la liste :\n",
    "- CpuCacheL3\n",
    "- CpuDieSize\n",
    "- CpuNumberOfTransistors\n",
    "- GpuBandwidth\n",
    "- GpuNumberOfComputeUnits\n",
    "- GpuDieSize\n",
    "- GpuNumberOfExecutionUnits\n",
    "- GpuFP32Performance\n",
    "- GpuMemoryBus\n",
    "- GpuMemorySize\n",
    "- GpuMemoryType\n",
    "- GpuOpenCL\n",
    "- GpuShaderModel\n",
    "- GpuNumberOfShadingUnits\n",
    "- GpuNumberOfTransistors\n",
    "- GpuVulkan"
   ]
  },
  {
   "cell_type": "code",
   "execution_count": 61,
   "metadata": {},
   "outputs": [
    {
     "name": "stdout",
     "output_type": "stream",
     "text": [
      "Nombre de jeux :  GameName\n",
      "aWayOut                         1026\n",
      "airMechStrike                   1026\n",
      "apexLegends                     4771\n",
      "arkSurvivalEvolved              1963\n",
      "battlefield1                    4900\n",
      "battlefield4                    3625\n",
      "battletech                      1026\n",
      "callOfDutyBlackOps4             2341\n",
      "callOfDutyWW2                   1026\n",
      "counterStrikeGlobalOffensive    9751\n",
      "destiny2                        1026\n",
      "dota2                           3801\n",
      "farCry5                         1026\n",
      "fortnite                        8394\n",
      "frostpunk                       1026\n",
      "grandTheftAuto5                 7911\n",
      "leagueOfLegends                 6342\n",
      "minecraft                       2958\n",
      "overwatch                       7854\n",
      "pathOfExile                     1026\n",
      "playerUnknownsBattlegrounds     8859\n",
      "radicalHeights                  1026\n",
      "rainbowSixSiege                 1026\n",
      "rocketLeague                    1607\n",
      "rust                            2149\n",
      "seaOfThieves                    1026\n",
      "starcraft2                      1026\n",
      "totalWar3Kingdoms               1026\n",
      "warframe                        1026\n",
      "worldOfTanks                    3865\n",
      "dtype: int64\n"
     ]
    }
   ],
   "source": [
    "dataset_df = pd.DataFrame(data=np.c_[dataset.data, dataset.target], columns=dataset.feature_names+['target'])\n",
    "\n",
    "dataset_df_reduced = dataset_df.dropna(axis='columns')\n",
    "\n",
    "dataset_df_reduced_rows = dataset_df.drop(\n",
    "    columns=['GpuNumberOfExecutionUnits', 'GpuNumberOfComputeUnits','CpuNumberOfTransistors', 'CpuDieSize', 'CpuCacheL3','Dataset']).dropna().reset_index().drop(columns=['index'])\n",
    "\n",
    "dataset_df_reduced_rows = dataset_df_reduced_rows.drop_duplicates(subset=dataset_df_reduced_rows.columns.difference(['target']))\n",
    "\n",
    "dataset_df_reduced_rows_pivot = dataset_df_reduced_rows.pivot_table(columns=['GameName'], aggfunc='size')\n",
    "\n",
    "print(\"Nombre de jeux : \",dataset_df_reduced_rows_pivot)\n",
    "\n",
    "%matplotlib inline\n",
    "\n",
    "#print(dataset_df_reduced_rows.columns.size)\n",
    "\n",
    "##pd.plotting.scatter_matrix(dataset.data, alpha=0.2)\n",
    "\n",
    "#bc_df = pd.DataFrame(dataset.data, columns=dataset.feature_names)\n",
    "#bc_df_target = pd.DataFrame(dataset.target, columns=['target'])\n",
    "\n",
    "#df = pd.DataFrame(np.random.randn(1000, 4), columns=['A','B','C','D'])\n",
    "#pd.plotting.scatter_matrix(df, alpha=0.2)\n",
    "\n",
    "#_ = pd.plotting.scatter_matrix(\n",
    "#                bc_df,\n",
    "#                c=bc_df_target, \n",
    "#                figsize=(100,100), \n",
    "#                marker='o',\n",
    "#                hist_kwds={'bins':20},s=60,\n",
    "#                alpha=.8)\n"
   ]
  },
  {
   "cell_type": "code",
   "execution_count": 65,
   "metadata": {},
   "outputs": [
    {
     "name": "stdout",
     "output_type": "stream",
     "text": [
      "0\n",
      "0\n",
      "0\n",
      "0\n",
      "0\n",
      "0\n",
      "0\n",
      "0\n",
      "0\n",
      "0\n",
      "0\n",
      "0\n",
      "0\n"
     ]
    },
    {
     "ename": "KeyError",
     "evalue": "1",
     "output_type": "error",
     "traceback": [
      "\u001b[1;31m---------------------------------------------------------------------------\u001b[0m",
      "\u001b[1;31mKeyError\u001b[0m                                  Traceback (most recent call last)",
      "\u001b[1;32m~\\AppData\\Roaming\\Python\\Python310\\site-packages\\pandas\\core\\indexes\\base.py\u001b[0m in \u001b[0;36mget_loc\u001b[1;34m(self, key, method, tolerance)\u001b[0m\n\u001b[0;32m   3360\u001b[0m             \u001b[1;32mtry\u001b[0m\u001b[1;33m:\u001b[0m\u001b[1;33m\u001b[0m\u001b[1;33m\u001b[0m\u001b[0m\n\u001b[1;32m-> 3361\u001b[1;33m                 \u001b[1;32mreturn\u001b[0m \u001b[0mself\u001b[0m\u001b[1;33m.\u001b[0m\u001b[0m_engine\u001b[0m\u001b[1;33m.\u001b[0m\u001b[0mget_loc\u001b[0m\u001b[1;33m(\u001b[0m\u001b[0mcasted_key\u001b[0m\u001b[1;33m)\u001b[0m\u001b[1;33m\u001b[0m\u001b[1;33m\u001b[0m\u001b[0m\n\u001b[0m\u001b[0;32m   3362\u001b[0m             \u001b[1;32mexcept\u001b[0m \u001b[0mKeyError\u001b[0m \u001b[1;32mas\u001b[0m \u001b[0merr\u001b[0m\u001b[1;33m:\u001b[0m\u001b[1;33m\u001b[0m\u001b[1;33m\u001b[0m\u001b[0m\n",
      "\u001b[1;32m~\\AppData\\Roaming\\Python\\Python310\\site-packages\\pandas\\_libs\\index.pyx\u001b[0m in \u001b[0;36mpandas._libs.index.IndexEngine.get_loc\u001b[1;34m()\u001b[0m\n",
      "\u001b[1;32m~\\AppData\\Roaming\\Python\\Python310\\site-packages\\pandas\\_libs\\index.pyx\u001b[0m in \u001b[0;36mpandas._libs.index.IndexEngine.get_loc\u001b[1;34m()\u001b[0m\n",
      "\u001b[1;32mpandas\\_libs\\hashtable_class_helper.pxi\u001b[0m in \u001b[0;36mpandas._libs.hashtable.Int64HashTable.get_item\u001b[1;34m()\u001b[0m\n",
      "\u001b[1;32mpandas\\_libs\\hashtable_class_helper.pxi\u001b[0m in \u001b[0;36mpandas._libs.hashtable.Int64HashTable.get_item\u001b[1;34m()\u001b[0m\n",
      "\u001b[1;31mKeyError\u001b[0m: 1",
      "\nThe above exception was the direct cause of the following exception:\n",
      "\u001b[1;31mKeyError\u001b[0m                                  Traceback (most recent call last)",
      "\u001b[1;32m~\\AppData\\Local\\Temp/ipykernel_2740/4266167350.py\u001b[0m in \u001b[0;36m<module>\u001b[1;34m\u001b[0m\n\u001b[0;32m      5\u001b[0m     \u001b[0mtab\u001b[0m \u001b[1;33m=\u001b[0m \u001b[1;33m{\u001b[0m\u001b[1;33m}\u001b[0m\u001b[1;33m\u001b[0m\u001b[1;33m\u001b[0m\u001b[0m\n\u001b[0;32m      6\u001b[0m     \u001b[1;32mfor\u001b[0m \u001b[0mi\u001b[0m \u001b[1;32min\u001b[0m \u001b[0mrange\u001b[0m\u001b[1;33m(\u001b[0m\u001b[0mvalues\u001b[0m\u001b[1;33m.\u001b[0m\u001b[0msize\u001b[0m\u001b[1;33m)\u001b[0m\u001b[1;33m:\u001b[0m\u001b[1;33m\u001b[0m\u001b[1;33m\u001b[0m\u001b[0m\n\u001b[1;32m----> 7\u001b[1;33m         \u001b[1;32mif\u001b[0m \u001b[0misinstance\u001b[0m\u001b[1;33m(\u001b[0m\u001b[0mdataset_copy\u001b[0m\u001b[1;33m[\u001b[0m\u001b[0mname\u001b[0m\u001b[1;33m]\u001b[0m\u001b[1;33m[\u001b[0m\u001b[0mi\u001b[0m\u001b[1;33m]\u001b[0m\u001b[1;33m,\u001b[0m \u001b[0mstr\u001b[0m\u001b[1;33m)\u001b[0m\u001b[1;33m:\u001b[0m\u001b[1;33m\u001b[0m\u001b[1;33m\u001b[0m\u001b[0m\n\u001b[0m\u001b[0;32m      8\u001b[0m             \u001b[1;32mif\u001b[0m \u001b[0mdataset_copy\u001b[0m\u001b[1;33m[\u001b[0m\u001b[0mname\u001b[0m\u001b[1;33m]\u001b[0m\u001b[1;33m[\u001b[0m\u001b[0mi\u001b[0m\u001b[1;33m]\u001b[0m \u001b[1;32mnot\u001b[0m \u001b[1;32min\u001b[0m \u001b[0mtab\u001b[0m\u001b[1;33m:\u001b[0m\u001b[1;33m\u001b[0m\u001b[1;33m\u001b[0m\u001b[0m\n\u001b[0;32m      9\u001b[0m                 \u001b[0mtab\u001b[0m\u001b[1;33m[\u001b[0m\u001b[0mdataset_copy\u001b[0m\u001b[1;33m[\u001b[0m\u001b[0mname\u001b[0m\u001b[1;33m]\u001b[0m\u001b[1;33m[\u001b[0m\u001b[0mi\u001b[0m\u001b[1;33m]\u001b[0m\u001b[1;33m]\u001b[0m \u001b[1;33m=\u001b[0m \u001b[0mcompt\u001b[0m\u001b[1;33m\u001b[0m\u001b[1;33m\u001b[0m\u001b[0m\n",
      "\u001b[1;32m~\\AppData\\Roaming\\Python\\Python310\\site-packages\\pandas\\core\\series.py\u001b[0m in \u001b[0;36m__getitem__\u001b[1;34m(self, key)\u001b[0m\n\u001b[0;32m    940\u001b[0m \u001b[1;33m\u001b[0m\u001b[0m\n\u001b[0;32m    941\u001b[0m         \u001b[1;32melif\u001b[0m \u001b[0mkey_is_scalar\u001b[0m\u001b[1;33m:\u001b[0m\u001b[1;33m\u001b[0m\u001b[1;33m\u001b[0m\u001b[0m\n\u001b[1;32m--> 942\u001b[1;33m             \u001b[1;32mreturn\u001b[0m \u001b[0mself\u001b[0m\u001b[1;33m.\u001b[0m\u001b[0m_get_value\u001b[0m\u001b[1;33m(\u001b[0m\u001b[0mkey\u001b[0m\u001b[1;33m)\u001b[0m\u001b[1;33m\u001b[0m\u001b[1;33m\u001b[0m\u001b[0m\n\u001b[0m\u001b[0;32m    943\u001b[0m \u001b[1;33m\u001b[0m\u001b[0m\n\u001b[0;32m    944\u001b[0m         \u001b[1;32mif\u001b[0m \u001b[0mis_hashable\u001b[0m\u001b[1;33m(\u001b[0m\u001b[0mkey\u001b[0m\u001b[1;33m)\u001b[0m\u001b[1;33m:\u001b[0m\u001b[1;33m\u001b[0m\u001b[1;33m\u001b[0m\u001b[0m\n",
      "\u001b[1;32m~\\AppData\\Roaming\\Python\\Python310\\site-packages\\pandas\\core\\series.py\u001b[0m in \u001b[0;36m_get_value\u001b[1;34m(self, label, takeable)\u001b[0m\n\u001b[0;32m   1049\u001b[0m \u001b[1;33m\u001b[0m\u001b[0m\n\u001b[0;32m   1050\u001b[0m         \u001b[1;31m# Similar to Index.get_value, but we do not fall back to positional\u001b[0m\u001b[1;33m\u001b[0m\u001b[1;33m\u001b[0m\u001b[0m\n\u001b[1;32m-> 1051\u001b[1;33m         \u001b[0mloc\u001b[0m \u001b[1;33m=\u001b[0m \u001b[0mself\u001b[0m\u001b[1;33m.\u001b[0m\u001b[0mindex\u001b[0m\u001b[1;33m.\u001b[0m\u001b[0mget_loc\u001b[0m\u001b[1;33m(\u001b[0m\u001b[0mlabel\u001b[0m\u001b[1;33m)\u001b[0m\u001b[1;33m\u001b[0m\u001b[1;33m\u001b[0m\u001b[0m\n\u001b[0m\u001b[0;32m   1052\u001b[0m         \u001b[1;32mreturn\u001b[0m \u001b[0mself\u001b[0m\u001b[1;33m.\u001b[0m\u001b[0mindex\u001b[0m\u001b[1;33m.\u001b[0m\u001b[0m_get_values_for_loc\u001b[0m\u001b[1;33m(\u001b[0m\u001b[0mself\u001b[0m\u001b[1;33m,\u001b[0m \u001b[0mloc\u001b[0m\u001b[1;33m,\u001b[0m \u001b[0mlabel\u001b[0m\u001b[1;33m)\u001b[0m\u001b[1;33m\u001b[0m\u001b[1;33m\u001b[0m\u001b[0m\n\u001b[0;32m   1053\u001b[0m \u001b[1;33m\u001b[0m\u001b[0m\n",
      "\u001b[1;32m~\\AppData\\Roaming\\Python\\Python310\\site-packages\\pandas\\core\\indexes\\base.py\u001b[0m in \u001b[0;36mget_loc\u001b[1;34m(self, key, method, tolerance)\u001b[0m\n\u001b[0;32m   3361\u001b[0m                 \u001b[1;32mreturn\u001b[0m \u001b[0mself\u001b[0m\u001b[1;33m.\u001b[0m\u001b[0m_engine\u001b[0m\u001b[1;33m.\u001b[0m\u001b[0mget_loc\u001b[0m\u001b[1;33m(\u001b[0m\u001b[0mcasted_key\u001b[0m\u001b[1;33m)\u001b[0m\u001b[1;33m\u001b[0m\u001b[1;33m\u001b[0m\u001b[0m\n\u001b[0;32m   3362\u001b[0m             \u001b[1;32mexcept\u001b[0m \u001b[0mKeyError\u001b[0m \u001b[1;32mas\u001b[0m \u001b[0merr\u001b[0m\u001b[1;33m:\u001b[0m\u001b[1;33m\u001b[0m\u001b[1;33m\u001b[0m\u001b[0m\n\u001b[1;32m-> 3363\u001b[1;33m                 \u001b[1;32mraise\u001b[0m \u001b[0mKeyError\u001b[0m\u001b[1;33m(\u001b[0m\u001b[0mkey\u001b[0m\u001b[1;33m)\u001b[0m \u001b[1;32mfrom\u001b[0m \u001b[0merr\u001b[0m\u001b[1;33m\u001b[0m\u001b[1;33m\u001b[0m\u001b[0m\n\u001b[0m\u001b[0;32m   3364\u001b[0m \u001b[1;33m\u001b[0m\u001b[0m\n\u001b[0;32m   3365\u001b[0m         \u001b[1;32mif\u001b[0m \u001b[0mis_scalar\u001b[0m\u001b[1;33m(\u001b[0m\u001b[0mkey\u001b[0m\u001b[1;33m)\u001b[0m \u001b[1;32mand\u001b[0m \u001b[0misna\u001b[0m\u001b[1;33m(\u001b[0m\u001b[0mkey\u001b[0m\u001b[1;33m)\u001b[0m \u001b[1;32mand\u001b[0m \u001b[1;32mnot\u001b[0m \u001b[0mself\u001b[0m\u001b[1;33m.\u001b[0m\u001b[0mhasnans\u001b[0m\u001b[1;33m:\u001b[0m\u001b[1;33m\u001b[0m\u001b[1;33m\u001b[0m\u001b[0m\n",
      "\u001b[1;31mKeyError\u001b[0m: 1"
     ]
    }
   ],
   "source": [
    "dataset_copy = dataset_df_reduced_rows\n",
    "dict_init = {}\n",
    "for name, values in dataset_df_reduced_rows.iteritems():\n",
    "    compt = 0\n",
    "    tab = {}\n",
    "    for i in range(values.size):\n",
    "        if isinstance(dataset_copy[name][i], str):\n",
    "            if dataset_copy[name][i] not in tab:\n",
    "                tab[dataset_copy[name][i]] = compt\n",
    "                dataset_copy[name][i] = compt\n",
    "                compt += 1\n",
    "            else:\n",
    "                dataset_copy[name][i] = tab[dataset_copy[name][i]]\n",
    "        else:\n",
    "            break\n",
    "    print(len(tab))\n",
    "    dict_init[name] = tab"
   ]
  }
 ],
 "metadata": {
  "kernelspec": {
   "display_name": "Python 3",
   "language": "python",
   "name": "python3"
  },
  "language_info": {
   "codemirror_mode": {
    "name": "ipython",
    "version": 3
   },
   "file_extension": ".py",
   "mimetype": "text/x-python",
   "name": "python",
   "nbconvert_exporter": "python",
   "pygments_lexer": "ipython3",
   "version": "3.10.1"
  }
 },
 "nbformat": 4,
 "nbformat_minor": 2
}
