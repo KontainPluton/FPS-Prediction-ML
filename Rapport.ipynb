{
 "cells": [
  {
   "cell_type": "markdown",
   "metadata": {},
   "source": [
    "## Rapport : Résolution de Problèmes / Machine Learning\n",
    "\n",
    "#### IMT Mines Alès 2022\n",
    "##### INFRES 13 \n",
    "- **Quentin BIALOTA**\n",
    "- **Tom L'HERMENIER**\n",
    "\n",
    "![Logo IMT](https://www.fondation-mines-telecom.org/wp-content/uploads/2018/02/imt_mines_ales-300x158.jpg)\n",
    "\n",
    "---\n",
    "\n",
    "[//]: <> (Generally define your task)\n",
    "[//]: <> (Analyse the corresponding dataset.)\n",
    "[//]: <> (Define the problem as a Machine Learning problem.)\n",
    "[//]: <> (Define the methodology and protocol you will use to tackle the problem.)\n",
    "[//]: <> (Implement various approaches that are suited to this problem.)\n",
    "[//]: <> (Discuss the results you have obtained.)\n",
    "[//]: <> (Eventually recommend your final solution motivating it.)\n",
    "\n",
    "Dans le cadre de du cours de **Résolution de Problèmes - Machine Learning** à l'IMT Mines Alès, nous avons réalisé un projet de notre choix, visant à résoudre un problème de machine learning, le tout en évaluant et comparant différents modèles pour la résolution du problème.\n",
    "\n",
    "Dans ce projet, nous avons choisi de traiter une problématique visant à prédire un nombre de FPS (Frame Per Second / Image par Seconde), en fonction du jeu auquel on joue, et des différentes caractéristiques de l'ordinateur sur lequel on fait tourner le programme (Nom du processeur, nombre de coeurs, nombre de threads, nom de la carte graphique, ...)\n",
    "\n",
    "---\n",
    "\n",
    "Afin de traiter ce problème, nous avons décidé d'utiliser un dataset déjà existant et disponible sur le site OpenML. Ce dataset nommé `fps-in-video-game` est accessible au lien suivant : https://www.openml.org/d/42737.\n"
   ]
  },
  {
   "cell_type": "markdown",
   "metadata": {},
   "source": [
    "##### Imports globaux\n",
    "Avante toute chose, veuillez lancer la cellule suivante pour importer les librairies et outils utilisés dans ce rapport."
   ]
  },
  {
   "cell_type": "code",
   "execution_count": 2,
   "metadata": {},
   "outputs": [],
   "source": [
    "import numpy as np\n",
    "import matplotlib.pyplot as plt\n",
    "import pandas as pd\n",
    "import sklearn\n",
    "import seaborn as sns\n",
    "\n",
    "from IPython.display import display\n",
    "\n",
    "from sklearn.datasets import fetch_openml\n",
    "from sklearn.model_selection import train_test_split\n",
    "from sklearn.model_selection import cross_val_score\n",
    "from sklearn.linear_model import LinearRegression\n",
    "from sklearn.linear_model import Ridge\n",
    "from sklearn.neural_network import MLPRegressor\n",
    "from sklearn.preprocessing import StandardScaler\n",
    "from sklearn.pipeline import Pipeline"
   ]
  },
  {
   "cell_type": "markdown",
   "metadata": {},
   "source": [
    "---\n",
    "\n",
    "##### Import du dataset\n",
    "\n",
    "Via la cellule suivante, vous pouvez importer le dataset depuis le site d'OpenML."
   ]
  },
  {
   "cell_type": "code",
   "execution_count": 3,
   "metadata": {},
   "outputs": [
    {
     "name": "stdout",
     "output_type": "stream",
     "text": [
      "Informations sur le dataset : \n",
      " **Author**: Sven Peeters  \n",
      "**Source**: userbenchmark.com, fpsbenchmark.com, techpowerup.com - June 2020  \n",
      "**Please cite**: TBA\n",
      "\n",
      "# Achieved Frames per Second (FPS) in video games\n",
      "\n",
      "This dataset contains FPS measurement of video games executed on computers. Each row of the dataset describes the outcome of FPS measurement (outcome is attribute FPS) for a video game executed on a computer. A computer is characterized by the CPU and the GPU. For both the name is resolved to technical specifications (features starting with Cpu and Gpu). The technical specification of CPU and GPU are technical specification that describe the factory state of the respective component. The game is characterized by the name, the displayed resolution, and the quality setting that was adjusted during the measurement (features starting with Game). In the following there is a short descriptions of the data sources and a description for each feature in the dataset.\n",
      "\n",
      "## Source of Data\n",
      "\n",
      "The measurements are gathered from the webpages userbenchmark.com and fpsbenchmark.com. The source of each measurement is indicated by the attribute dataset wich takes the value userbenchmark or fpsbenchmark. For userbenchmark the FPS values are extracted from the published histograms. Hence, the FPS values are binned to bins with width 10 starting at 10 and there are multiple measurements for the same computer and software configuration (CpuName, GpuName, GameName, GameSetting, GameResolution, Dataset). The technical specifications are gathered from the webpage techpowerup.com. All FPS measurements and technical specifications were crawled in June 2020.\n",
      "\n",
      "## Description of the technical features\n",
      "\n",
      "### CPU (Central Processing Unit)\n",
      "\n",
      "* CpuNumberOfCores: number of physical cores \n",
      "* CpuNumberOfThreads: number of threads\n",
      "* CpuBaseClock: base clock in Mhz\n",
      "* CpuCacheL1: total size of level 1 cache in kB \n",
      "* CpuCacheL2: total size of level 2 cache in kB \n",
      "* CpuCacheL3: total size of level 3 cache in MB\n",
      "* CpuDieSize: physical size of the die in square meter\n",
      "* CpuFrequency: frequency in Mhz\n",
      "* CpuMultiplier: multiplier of Cpu\n",
      "* CpuMultiplierUnlocked: 0=multiplier locked, 1=multiplier unlocked \n",
      "* CpuProcessSize: used process size in nanometer \n",
      "* CpuSMPNumberOfCpus: number of symmetric multiprocessors\n",
      "* CpuTDP: thermal design power in watt\n",
      "* CpuTransistors: count of transistors in million\n",
      "* CpuTurbo Clock: turbo clock in Mhz\n",
      "\n",
      "### GPU (Graphics Processing Unit)\n",
      "\n",
      "* GpuBandwidth: bandwidth in MB/s \n",
      "* GpuBaseClock: base clock in MHz\n",
      "* GpuBoostClock: boost clock in MHz \n",
      "* GpuComputeUnits: number of computing units\n",
      "* GpuDieSize: physical size of die in square meter \n",
      "* GpuNumberOfExecutionUnits: number of execution units \n",
      "* GpuFP32Performance: theoretical Float 32 performance in MFLOP/s \n",
      "* GpuMemoryBus: width of memory bus in bits\n",
      "* GpuMemorySize: size of memory in MB \n",
      "* GpuPixelRate: theoretical pixel rate in MPixel/s \n",
      "* GpuProcessSize:  used process size in nanometer \n",
      "* GpuNumberOfROPs: number of render output units\n",
      "* GpuNumberOfShadingUnits: number of shading units\n",
      "* GpuNumberOfTMUs: number of texture mapping units \n",
      "* GpuTextureRate: theoretical texture rate in KTexel/s\n",
      "* GpuTransistors: number of transistors in million\n",
      "* GpuArchitecture: architecture code\n",
      "* GpuMemoryType: memory type\n",
      "* GpuBusInterface: bus interface\n",
      "* GpuOpenCL: version of OpenCL\n",
      "* GpuShaderModel: version of shader model\n",
      "* GpuVulkan: version of Vulkan \n",
      "* GpuOpenGL: version of OpenGL\n",
      "\n",
      "### Game\n",
      "\n",
      "* GameName: name \n",
      "* GameResolution: resolution \n",
      "* GameSetting: quality setting \n",
      "\n",
      "### Dataset indicator and Target\n",
      "\n",
      "* Dataset: indicator for the source of measurement \n",
      "* FPS: FPS value\n",
      "\n",
      "Downloaded from openml.org.\n"
     ]
    }
   ],
   "source": [
    "### Import du dataset depuis OpenML (lien du dataset : https://www.openml.org/d/42737)\n",
    "\n",
    "dataset = sklearn.datasets.fetch_openml(name=\"fps-in-video-games\")\n",
    "\n",
    "### Informations sur le dataset\n",
    "\n",
    "print(\"Informations sur le dataset : \\n\",dataset[\"DESCR\"])"
   ]
  },
  {
   "cell_type": "markdown",
   "metadata": {},
   "source": [
    "---\n",
    "\n",
    "##### Structure du dataset :\n",
    "\n",
    "Le dataset utilisé contient au total 44 caractéristiques (features) labélisées avec le nombre de FPS observé dans chaque cas, et au total ce dataset contient 425 833 observations.\n",
    "\n",
    "Le problème principal de ces données, et qu'il y a beaucoup de valeurs non renseignées, voir même des colonnes entièrement vides (remplies de NaN). C'est pas exemple le cas `GpuNumberOfExecutionUnits` qui n'est pas renseignée pour quasiment toutes les observations.\n",
    "\n",
    "Afin de voir au mieux ces données non renseignées, voici un récapitulatif (dans la cellule suivante) du nombre total de \"trous\" dans le dataset (valeur à NaN), ainsi que le nombre de \"trous\" par caractéristique.\n",
    "\n",
    "Pour finir au niveau de la structure, nous avons pu remarquer beaucoup de duplicatas sur les inputs (valeurs de caractéristiques), avec des targets (valeurs cibles) différentes. De ce fait, on peut considérer d'or et déjà que ce dataset ne contient pas toutes les informations nécéssaires pour une meilleure prédiction du nombre de FPS. On peut par exemple penser à la RAM (mémoire vive) qui peut influer sur les FPS."
   ]
  },
  {
   "cell_type": "code",
   "execution_count": 12,
   "metadata": {},
   "outputs": [
    {
     "name": "stdout",
     "output_type": "stream",
     "text": [
      "Nombre total de Nan dans le dataset :  1299988\n",
      "Nombre de Nan pour chaque caracteristique : \n",
      " [['CpuName' 0]\n",
      " ['CpuNumberOfCores' 0]\n",
      " ['CpuNumberOfThreads' 0]\n",
      " ['CpuBaseClock' 0]\n",
      " ['CpuCacheL1' 0]\n",
      " ['CpuCacheL2' 0]\n",
      " ['CpuCacheL3' 5055]\n",
      " ['CpuDieSize' 202534]\n",
      " ['CpuFrequency' 0]\n",
      " ['CpuMultiplier' 0]\n",
      " ['CpuMultiplierUnlocked' 0]\n",
      " ['CpuProcessSize' 0]\n",
      " ['CpuTDP' 0]\n",
      " ['CpuNumberOfTransistors' 226039]\n",
      " ['CpuTurboClock' 0]\n",
      " ['GpuName' 0]\n",
      " ['GpuArchitecture' 0]\n",
      " ['GpuBandwidth' 15441]\n",
      " ['GpuBaseClock' 0]\n",
      " ['GpuBoostClock' 0]\n",
      " ['GpuBus nterface' 0]\n",
      " ['GpuNumberOfComputeUnits' 357107]\n",
      " ['GpuDieSize' 11196]\n",
      " ['GpuDirectX' 0]\n",
      " ['GpuNumberOfExecutionUnits' 412935]\n",
      " ['GpuFP32Performance' 56]\n",
      " ['GpuMemoryBus' 15441]\n",
      " ['GpuMemorySize' 15441]\n",
      " ['GpuMemoryType' 15441]\n",
      " ['GpuOpenCL' 177]\n",
      " ['GpuOpenGL' 0]\n",
      " ['GpuPixelRate' 0]\n",
      " ['GpuProcessSize' 0]\n",
      " ['GpuNumberOfROPs' 0]\n",
      " ['GpuShaderModel' 5]\n",
      " ['GpuNumberOfShadingUnits' 56]\n",
      " ['GpuNumberOfTMUs' 0]\n",
      " ['GpuTextureRate' 0]\n",
      " ['GpuNumberOfTransistors' 11539]\n",
      " ['GpuVulkan' 11525]\n",
      " ['GameName' 0]\n",
      " ['GameResolution' 0]\n",
      " ['GameSetting' 0]\n",
      " ['Dataset' 0]]\n",
      "Sous forme de graphe :\n"
     ]
    },
    {
     "data": {
      "text/plain": [
       "<AxesSubplot:title={'center':'Nombre de valeurs nulles par caractéristique'}, xlabel='Caractéristique (numero)', ylabel='Nombre de valeurs nulles'>"
      ]
     },
     "execution_count": 12,
     "metadata": {},
     "output_type": "execute_result"
    },
    {
     "data": {
      "image/png": "[encoded data removed]",
      "text/plain": [
       "<Figure size 432x288 with 1 Axes>"
      ]
     },
     "metadata": {
      "needs_background": "light"
     },
     "output_type": "display_data"
    }
   ],
   "source": [
    "### Compte le nombre de NaN dans le dataset\n",
    "\n",
    "bc_df = pd.DataFrame(dataset.data, columns=dataset.feature_names)\n",
    "\n",
    "tab = []\n",
    "j = 0\n",
    "\n",
    "for feature in bc_df.columns:\n",
    "    tab.append(bc_df[feature].isna().sum())\n",
    "\n",
    "print(\"Nombre total de Nan dans le dataset : \",bc_df.isna().sum().sum())\n",
    "print(\"Nombre de Nan pour chaque caracteristique : \\n\",np.c_[bc_df.columns,tab])\n",
    "\n",
    "print (\"Sous forme de graphe :\")\n",
    "affiche = pd.DataFrame(np.c_[bc_df.columns,tab])\n",
    "affiche.plot(kind='bar', title='Nombre de valeurs nulles par caractéristique', xlabel='Caractéristique (numero)', ylabel='Nombre de valeurs nulles')"
   ]
  },
  {
   "cell_type": "markdown",
   "metadata": {},
   "source": [
    "##### Tri du dataset\n",
    "\n",
    "Afin de pourvoir utiliser notre dataset, il nous faut le trier. D'une part car les valeurs NaN vont poser problème, et d'autre part car il y a un trop grand nombre d'observations pour traiter le problème dans des temps raisonnables sur nos ordinateurs.\n",
    "\n",
    "Pour trier notre dataset, nous avons au à notre disposition deux méthodologies :\n",
    "- Supprimer toutes les colonnes du dataset contenant des valeurs nulles (NaN), puis choisir dans les colonnes restantes, celles qui sont pertinentes.\n",
    "- Supprimer la colonne `GpuNumberOfExecutionUnits` (car c'est une colonne contenant que des valeurs nulles), puis supprimer toutes les lignes contenant des valeurs nulles (NaN). Et comme pour la 1ere méthode, il faudra trier les colonnes pertinentes dans les colonnes restantes."
   ]
  },
  {
   "cell_type": "markdown",
   "metadata": {},
   "source": [
    "#### Suppression des colonnes contennants des valeurs nulles (NaN)\n",
    "\n",
    "Dans notre dataset, certaines colonnes contiennent des valeurs non renseignées, nous avons donc décider de les supprimer.\n",
    "Voici la liste :\n",
    "- CpuCacheL3\n",
    "- CpuDieSize\n",
    "- CpuNumberOfTransistors\n",
    "- GpuBandwidth\n",
    "- GpuNumberOfComputeUnits\n",
    "- GpuDieSize\n",
    "- GpuNumberOfExecutionUnits\n",
    "- GpuFP32Performance\n",
    "- GpuMemoryBus\n",
    "- GpuMemorySize\n",
    "- GpuMemoryType\n",
    "- GpuOpenCL\n",
    "- GpuShaderModel\n",
    "- GpuNumberOfShadingUnits\n",
    "- GpuNumberOfTransistors\n",
    "- GpuVulkan"
   ]
  },
  {
   "cell_type": "code",
   "execution_count": 1,
   "metadata": {},
   "outputs": [
    {
     "ename": "NameError",
     "evalue": "name 'pd' is not defined",
     "output_type": "error",
     "traceback": [
      "\u001b[1;31m---------------------------------------------------------------------------\u001b[0m",
      "\u001b[1;31mNameError\u001b[0m                                 Traceback (most recent call last)",
      "\u001b[1;32m<ipython-input-1-201f6519a139>\u001b[0m in \u001b[0;36m<module>\u001b[1;34m\u001b[0m\n\u001b[1;32m----> 1\u001b[1;33m \u001b[0mbidule2\u001b[0m \u001b[1;33m=\u001b[0m \u001b[0mpd\u001b[0m\u001b[1;33m.\u001b[0m\u001b[0mDataFrame\u001b[0m\u001b[1;33m(\u001b[0m\u001b[0mdata\u001b[0m\u001b[1;33m=\u001b[0m\u001b[0mdataset\u001b[0m\u001b[1;33m.\u001b[0m\u001b[0mdata\u001b[0m\u001b[1;33m,\u001b[0m \u001b[0mcolumns\u001b[0m\u001b[1;33m=\u001b[0m\u001b[0mdataset\u001b[0m\u001b[1;33m.\u001b[0m\u001b[0mfeature_names\u001b[0m\u001b[1;33m)\u001b[0m\u001b[1;33m\u001b[0m\u001b[1;33m\u001b[0m\u001b[0m\n\u001b[0m\u001b[0;32m      2\u001b[0m bidule2 = bidule2.drop(\n\u001b[0;32m      3\u001b[0m     columns=['GpuNumberOfExecutionUnits', 'GpuNumberOfComputeUnits','CpuNumberOfTransistors', 'CpuDieSize', 'CpuCacheL3','Dataset']).dropna()\n\u001b[0;32m      4\u001b[0m \u001b[1;33m\u001b[0m\u001b[0m\n\u001b[0;32m      5\u001b[0m \u001b[0mbidule3\u001b[0m \u001b[1;33m=\u001b[0m \u001b[0mbidule2\u001b[0m\u001b[1;33m.\u001b[0m\u001b[0mdrop_duplicates\u001b[0m\u001b[1;33m(\u001b[0m\u001b[0msubset\u001b[0m\u001b[1;33m=\u001b[0m\u001b[0mbidule2\u001b[0m\u001b[1;33m.\u001b[0m\u001b[0mcolumns\u001b[0m\u001b[1;33m.\u001b[0m\u001b[0mdifference\u001b[0m\u001b[1;33m(\u001b[0m\u001b[1;33m[\u001b[0m\u001b[1;34m'target'\u001b[0m\u001b[1;33m]\u001b[0m\u001b[1;33m)\u001b[0m\u001b[1;33m)\u001b[0m\u001b[1;33m.\u001b[0m\u001b[0mreset_index\u001b[0m\u001b[1;33m(\u001b[0m\u001b[1;33m)\u001b[0m\u001b[1;33m.\u001b[0m\u001b[0mdrop\u001b[0m\u001b[1;33m(\u001b[0m\u001b[0mcolumns\u001b[0m\u001b[1;33m=\u001b[0m\u001b[1;33m[\u001b[0m\u001b[1;34m'index'\u001b[0m\u001b[1;33m]\u001b[0m\u001b[1;33m)\u001b[0m\u001b[1;33m\u001b[0m\u001b[1;33m\u001b[0m\u001b[0m\n",
      "\u001b[1;31mNameError\u001b[0m: name 'pd' is not defined"
     ]
    }
   ],
   "source": [
    "bidule2 = pd.DataFrame(data=dataset.data, columns=dataset.feature_names)\n",
    "bidule2 = bidule2.drop(\n",
    "    columns=['GpuNumberOfExecutionUnits', 'GpuNumberOfComputeUnits','CpuNumberOfTransistors', 'CpuDieSize', 'CpuCacheL3','Dataset']).dropna()\n",
    "\n",
    "bidule3 = bidule2.drop_duplicates(subset=bidule2.columns.difference(['target'])).reset_index().drop(columns=['index'])\n",
    "\n",
    "%matplotlib inline\n",
    "\n",
    "corr_matrix=bidule2.corr()\n",
    "fig,ax=plt.subplots(figsize=(15,10))\n",
    "ax=sns.heatmap(corr_matrix,\n",
    "              annot=True,\n",
    "              linewidths=0.5)"
   ]
  },
  {
   "cell_type": "code",
   "execution_count": null,
   "metadata": {},
   "outputs": [],
   "source": [
    "dataset_df = pd.DataFrame(data=np.c_[dataset.data, dataset.target], columns=dataset.feature_names+['target'])\n",
    "\n",
    "dataset_df_reduced = dataset_df.dropna(axis='columns')\n",
    "\n",
    "dataset_df_reduced_rows = dataset_df.drop(\n",
    "    columns=['GpuNumberOfExecutionUnits', 'GpuNumberOfComputeUnits','CpuNumberOfTransistors', 'CpuDieSize', 'CpuCacheL3','Dataset']).dropna()\n",
    "\n",
    "dataset_df_reduced_rows = dataset_df_reduced_rows.drop_duplicates(subset=dataset_df_reduced_rows.columns.difference(['target'])).reset_index().drop(columns=['index'])\n",
    "\n",
    "dataset_df_reduced_rows_pivot = dataset_df_reduced_rows.pivot_table(columns=['GameName'], aggfunc='size')\n",
    "\n",
    "print(\"Nombre de jeux : \",dataset_df_reduced_rows_pivot)\n"
   ]
  },
  {
   "cell_type": "code",
   "execution_count": null,
   "metadata": {},
   "outputs": [],
   "source": [
    "dataset_copy = dataset_df_reduced_rows\n",
    "dict_init = {}\n",
    "for name, values in dataset_df_reduced_rows.iteritems():\n",
    "    compt = 0\n",
    "    tab = {}\n",
    "    for i in range(values.size):\n",
    "        if isinstance(dataset_copy[name][i], str):\n",
    "            if dataset_copy[name][i] not in tab:\n",
    "                tab[dataset_copy[name][i]] = compt\n",
    "                dataset_copy[name][i] = compt\n",
    "                compt += 1\n",
    "            else:\n",
    "                dataset_copy[name][i] = tab[dataset_copy[name][i]]\n",
    "        else:\n",
    "            break\n",
    "    print(len(tab))\n",
    "    dict_init[name] = tab"
   ]
  },
  {
   "cell_type": "code",
   "execution_count": null,
   "metadata": {},
   "outputs": [],
   "source": [
    "dataset_df_reduced_rows = dataset_df_reduced_rows.sample(random_state=0, n=dataset_df_reduced_rows.shape[0])\n",
    "X = dataset_df_reduced_rows.drop(columns=['target'])\n",
    "y = dataset_df_reduced_rows['target']\n",
    "\n",
    "#print(X.info())\n",
    "\n",
    "# Simple\n",
    "\n",
    "X_train, X_test, y_train, y_test = train_test_split(X, y, random_state=0)\n",
    "\n",
    "scalar = StandardScaler()\n",
    "X_train = scalar.fit_transform(X_train)\n",
    "X_test = scalar.fit_transform(X_test)\n",
    "\n",
    "lr = LinearRegression().fit(X_train,y_train)\n",
    "\n",
    "print(\"Training set score: {:.2f}\".format(lr.score(X_train,y_train)))\n",
    "print(\"Test set score: {:.2f}\".format(lr.score(X_test,y_test)))\n",
    "\n",
    "# plus complexe\n",
    "\n",
    "pipeline = Pipeline([('transformer', scalar), ('estimator', LinearRegression())])\n",
    "\n",
    "scores = cross_val_score(pipeline, X, y, cv=20)\n",
    "print(scores)\n",
    "print(\"%0.2f accuracy with a standard deviation of %0.2f\" % (scores.mean(), scores.std()))\n",
    "# print(lr.score(X_test, y_test))\n",
    "\n",
    "pipeline = Pipeline([('transformer', scalar), ('estimator', Ridge(alpha=1.0))])\n",
    "\n",
    "scores = cross_val_score(pipeline, X, y, cv=20)\n",
    "print(scores)\n",
    "print(\"%0.2f accuracy with a standard deviation of %0.2f\" % (scores.mean(), scores.std()))\n",
    "\n",
    "#clf = svm.SVC(kernel='linear', C=1, random_state=42)\n",
    "#scores = cross_val_score(clf, X, y, cv=5)\n",
    "#print(scores)"
   ]
  }
 ],
 "metadata": {
  "kernelspec": {
   "display_name": "Python 3",
   "language": "python",
   "name": "python3"
  },
  "language_info": {
   "codemirror_mode": {
    "name": "ipython",
    "version": 3
   },
   "file_extension": ".py",
   "mimetype": "text/x-python",
   "name": "python",
   "nbconvert_exporter": "python",
   "pygments_lexer": "ipython3",
   "version": "3.7.5"
  }
 },
 "nbformat": 4,
 "nbformat_minor": 2
}
